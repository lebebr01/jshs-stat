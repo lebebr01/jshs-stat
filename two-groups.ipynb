{
 "cells": [
  {
   "cell_type": "markdown",
   "metadata": {},
   "source": [
    "  # Comparing Groups\n",
    "\n",
    "  This notebook gives an overview and introduction to comparing groups to understand if these groups are different from one another.. The data are real data collected from a group of young people during a Statistics class at FSEV UK. The data were retrieved from [Kaggle](https://www.kaggle.com/miroslavsabo/young-people-survey)."
   ]
  },
  {
   "cell_type": "code",
   "execution_count": null,
   "metadata": {},
   "outputs": [],
   "source": [
    "# install packages for Google colab\n",
    "install.pakcages(c(\"ggformula\", \"mosiac\"))\n",
    "\n",
    "# libraries\n",
    "library(tidyverse)\n",
    "library(ggformula)\n",
    "library(mosaic)\n",
    "\n",
    "# Set visualization theme\n",
    "theme_set(theme_bw(base_size = 16))\n",
    "\n",
    "# Read in Data\n",
    "survey_data <- read_csv(\"https://raw.githubusercontent.com/lebebr01/jshs-stat/main/data/survey_responses.csv\")\n",
    "\n",
    "# Process data names for easier access\n",
    "names(survey_data) <- gsub(\"-|,|/\", \"\", names(survey_data))\n",
    "names(survey_data) <- gsub(\"\\\\s+\", \"_\", names(survey_data))\n",
    "\n",
    "# Visual first few rows of the data\n",
    "head(survey_data)\n"
   ]
  },
  {
   "cell_type": "markdown",
   "metadata": {},
   "source": [
    "  ## Gender Differences in Phobias?\n",
    "\n",
    "  Have you noticed if male or female individuals tend to have different phobias or more phobias? This example will explore if male or female individuals have greater levels of phobias in general. The survey data have information on a variety of phobias including:\n",
    "\n",
    " + flying\n",
    " + thunder, lightning\n",
    " + darkness\n",
    " + heights\n",
    " + spiders\n",
    " + snakes\n",
    " + rats, mice\n",
    " + ageing\n",
    " + dangerous dogs\n",
    " + public speaking\n",
    "\n",
    " \n",
    "\n",
    " All respondents were asked to respond whether they were not afraid at all (a score of 1 in the data) to very afraid of (a score of 5 in the data). These data are extracted below to show the first few individuals who responded to these 10 items."
   ]
  },
  {
   "cell_type": "code",
   "execution_count": null,
   "metadata": {},
   "outputs": [],
   "source": [
    "phobia_data <- survey_data %>%\n",
    "   select(Flying, Storm, Darkness, Heights, Spiders, Snakes, Rats, Ageing, \n",
    "                Dangerous_dogs, Fear_of_public_speaking, Gender) %>%\n",
    "                rowwise() %>%\n",
    "   mutate(overall_phobia = sum(c_across(Flying:Fear_of_public_speaking))) %>%\n",
    "   drop_na(Gender)\n",
    "\n",
    "head(phobia_data)"
   ]
  },
  {
   "cell_type": "markdown",
   "metadata": {},
   "source": [
    " As you can see from the first few rows of data, there is variation in the individual responses to the 10 phobia questions. The code above also computed a new attribute representing the overall phobia level by adding all of the individual 10 survey questions together. Lower scores on this attribute represent individuals who do not have as many phobias and higher scores indicate higher or more phobias.\n",
    "\n",
    " ### Research Questions\n",
    " To articulate the questions we will explore in more detail\n",
    "\n",
    "  1. Are there differences in the overall level of phobias based on the sex of the individual?   \n",
    "  \n",
    "\n",
    " This could be translated into statistical hypotheses you may see in classical statistics books:\n",
    "\n",
    " $$ H_{0}: (\\bar{X}_{male} - \\bar{X}_{female}) = 0 $$\n",
    " $$ H_{1}: (\\bar{X}_{male} - \\bar{X}_{female})  \\neq 0 $$\n",
    "\n",
    " The null hypothesis, $H_{0}$ represents no difference in the two groups. The alternative hypothesis represents that there is a difference in the mean of the two groups.\n",
    "\n",
    "  Before we explicitly answer these research questions, let's first visualize the data to understand how many individuals in the data grew up in a city or rural location.\n",
    "\n",
    "  ### How many males and females?"
   ]
  },
  {
   "cell_type": "code",
   "execution_count": null,
   "metadata": {},
   "outputs": [],
   "source": [
    "gf_bar(~ Gender, data = phobia_data)\n",
    ""
   ]
  },
  {
   "cell_type": "markdown",
   "metadata": {},
   "source": [
    " ### Explore distribution of overall phobia.\n",
    " It is also helpful to explore the overall phobia attribute, which is serving as our outcome of interest or dependent variable."
   ]
  },
  {
   "cell_type": "code",
   "execution_count": null,
   "metadata": {},
   "outputs": [],
   "source": [
    "gf_histogram(~ overall_phobia, data = phobia_data, color = 'black') %>%\n",
    "  gf_labs(x = \"Overall Phobia (higher = more phobias)\")\n",
    ""
   ]
  },
  {
   "cell_type": "markdown",
   "metadata": {},
   "source": [
    " ### Compare overall phobia across groups\n",
    " Once the distribution is explored as a whole, now it is helpful to see if the variation in the distribution can be explained by other attributes in our data. In this example, we are most interested in the sex of the individual."
   ]
  },
  {
   "cell_type": "code",
   "execution_count": null,
   "metadata": {},
   "outputs": [],
   "source": [
    "gf_violin(overall_phobia ~ Gender, data = phobia_data, fill = 'gray80', \n",
    "                 draw_quantiles = c(0.1, 0.5, 0.9)) %>%\n",
    "        gf_labs(x = '', \n",
    "                        y = 'Overall Phobia (higher = more phobias)') %>%\n",
    "        gf_refine(coord_flip())\n",
    ""
   ]
  },
  {
   "cell_type": "markdown",
   "metadata": {},
   "source": [
    "  ## Fit a statistical model\n",
    " To more formally explore our research question, fitting a statistical model is helpful. This is helpful when we have a sample of data from a larger population we would wish to make a statement about. For example, in this situation, this may be a sample (of 1000 students) of a larger University student population. A statistical model can help us to quantify sampling error to determine if the differences we saw in the violin plot reflect signal or noise.\n",
    "\n",
    " To compare two groups, a linear model can be used to try to explain variation in the overall phobia based on group status. In order to do this, we must convert the text labels of the sex attribute to numeric quantities. For these data, we may do the following:\n",
    "\n",
    " + male = 1\n",
    " + female = 0  \n",
    " \n",
    "\n",
    " With code, we could do this as follows:"
   ]
  },
  {
   "cell_type": "code",
   "execution_count": null,
   "metadata": {},
   "outputs": [],
   "source": [
    "phobia_data <- phobia_data %>%\n",
    "    mutate(sex_numeric = ifelse(Gender == 'male', 1, 0))\n",
    "\n",
    "count(phobia_data, Gender, sex_numeric)\n",
    ""
   ]
  },
  {
   "cell_type": "markdown",
   "metadata": {},
   "source": [
    " Notice from the output that male is associated with a 1 and female are associated with a 0. We can now use this numeric quantity in our linear model."
   ]
  },
  {
   "cell_type": "code",
   "execution_count": null,
   "metadata": {},
   "outputs": [],
   "source": [
    "phobia_model <- lm(overall_phobia ~ sex_numeric, data = phobia_data)\n",
    "\n",
    "coef(phobia_model)\n",
    ""
   ]
  },
  {
   "cell_type": "markdown",
   "metadata": {},
   "source": [
    " Note, we could have also used the attribute, `Gender`, coded as is in the linear model."
   ]
  },
  {
   "cell_type": "code",
   "execution_count": null,
   "metadata": {},
   "outputs": [],
   "source": [
    "phobia_gender <- lm(overall_phobia ~ Gender, data = phobia_data)\n",
    "\n",
    "coef(phobia_gender)\n",
    ""
   ]
  },
  {
   "cell_type": "markdown",
   "metadata": {},
   "source": [
    " To interpret these coefficients, it is helpful to compute the mean phobia level for males and females."
   ]
  },
  {
   "cell_type": "code",
   "execution_count": null,
   "metadata": {},
   "outputs": [],
   "source": [
    "phobia_data %>%\n",
    "  df_stats(overall_phobia ~ Gender, mean)\n",
    ""
   ]
  },
  {
   "cell_type": "markdown",
   "metadata": {},
   "source": [
    " Notice from above, that the mean for the female group is the same value as the term for the intercept above. The intercept is interpreted as the mean when all of the attributes on the right hand side of the formula are equal to 0. In this case, the `Gender` and `sex_numeric` attributes are 0 for females. To understand what the other term is from the model above, we need to compute the difference in the computed means."
   ]
  },
  {
   "cell_type": "code",
   "execution_count": null,
   "metadata": {},
   "outputs": [],
   "source": [
    "22.13466 - 27.85592\n",
    ""
   ]
  },
  {
   "cell_type": "markdown",
   "metadata": {},
   "source": [
    " The term from the models labeled either \"sex_numeric\" or \"Gendermale\" is the same as the mean difference between male and female overall phobia. The model that was fitted earlier, is a linear regression, which looks like the following:\n",
    "\n",
    " $$ Y = mX + b + \\epsilon $$\n",
    "\n",
    " where Y is the overall phobia, X is the Gender or sex_numeric attribute, b is the intercept, m is the linear slope (i.e., a mean difference here), and $\\epsilon$ is an estimate of error."
   ]
  },
  {
   "cell_type": "markdown",
   "metadata": {},
   "source": [
    " ## Estimating Error\n",
    " There are many ways to estimate error. In classical statistics, we would make some assumptions about the error in the data to analytically estimate the amount of error, largely based on the sample size and estimates of variation. This approach will be shown later, but first, let's explore an alternative that uses computational power to estimate the distribution of our effect of interest, the mean difference between the two groups.\n",
    "\n",
    " To do this, we use a procedure called the bootstrap. The bootstrap can be summarized into the following steps:\n",
    " 1. Resample the original data, with replacement\n",
    " 2. Fit the linear model\n",
    " 3. Extract the coefficients\n",
    " 4. Repeat steps 1 - 3 many times (i.e., 5,000, 10,000, or more times)\n",
    " 5. Visualize distribution of mean differences\n",
    "\n",
    " Let's explore this in more detail by creating a function to do steps 1 - 3 one time."
   ]
  },
  {
   "cell_type": "code",
   "execution_count": null,
   "metadata": {},
   "outputs": [],
   "source": [
    "resample_phobia <- function(data) {\n",
    "  resample_data <- data %>%\n",
    "    sample_n(nrow(data), replace = TRUE)\n",
    "\n",
    "   resample_data %>%\n",
    "     lm(overall_phobia ~ Gender, data = .) %>%\n",
    "     coef(.) %>%\n",
    "     .[2] %>%\n",
    "     data.frame()\n",
    "}\n",
    "\n",
    "resample_phobia(phobia_data)\n",
    "resample_phobia(phobia_data)\n",
    ""
   ]
  },
  {
   "cell_type": "markdown",
   "metadata": {},
   "source": [
    " Let's now repeat this function many times."
   ]
  },
  {
   "cell_type": "code",
   "execution_count": null,
   "metadata": {},
   "outputs": [],
   "source": [
    "coef_phobia_diff <- map(1:10000, ~resample_phobia(data = phobia_data)) %>%\n",
    "  bind_rows()\n",
    "names(coef_phobia_diff) <- 'slope'\n",
    "\n",
    "gf_density(~ slope, data = coef_phobia_diff) %>%\n",
    "  gf_labs(x = \"Mean Difference (male - female)\")\n",
    "\n",
    "gf_violin(1 ~ slope, data = coef_phobia_diff, fill = 'gray80', \n",
    "                 draw_quantiles = c(0.025, 0.5, 0.975)) %>%\n",
    "   gf_labs(x = 'Mean Difference (male - female)',\n",
    "                  y = '') %>%\n",
    "    gf_refine(theme(axis.text.y = element_blank(),\n",
    "                  axis.ticks.y = element_blank()))\n",
    ""
   ]
  },
  {
   "cell_type": "markdown",
   "metadata": {},
   "source": [
    " These quantiles can be computed manually to get the actual values. This can be compared to a confidence interval from the classical statistic approach."
   ]
  },
  {
   "cell_type": "code",
   "execution_count": null,
   "metadata": {},
   "outputs": [],
   "source": [
    "coef_phobia_diff %>%\n",
    "  df_stats(~ slope, quantile(c(0.025, 0.5, 0.975)))\n",
    "\n",
    "  confint(phobia_gender)\n",
    "  "
   ]
  }
 ],
 "nbformat": 4,
 "nbformat_minor": 2,
 "metadata": {
  "file_extension": ".py",
  "kernelspec": {
   "display_name": "R",
   "language": "R",
   "name": "ir"
  },
  "language_info": {
   "codemirror_mode": "r",
   "file_extension": ".r",
   "mimetype": "text/x-r-source",
   "name": "R",
   "pygments_lexer": "r",
   "version": "4.0.2"
  },
  "mimetype": "text/x-python",
  "name": "python",
  "npconvert_exporter": "python",
  "pygments_lexer": "ipython3",
  "version": 3
 }
}