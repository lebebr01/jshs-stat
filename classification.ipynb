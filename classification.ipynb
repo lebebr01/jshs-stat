{
 "cells": [
  {
   "cell_type": "markdown",
   "metadata": {},
   "source": [
    " # Classification\n",
    "\n",
    " This notebook gives an overview and introduction to classification of two groups using classification trees. The data are real data collected from a group of young people during a Statistics class at FSEV UK. The data were retreived from [Kaggle](https://www.kaggle.com/miroslavsabo/young-people-survey)."
   ]
  },
  {
   "cell_type": "code",
   "execution_count": null,
   "metadata": {},
   "outputs": [],
   "source": [
    "# install packages for Google Colab\n",
    "install.packages(c(\"ggformula\", \"rpart.plot\"))\n",
    "\n",
    "# libraries\n",
    "library(tidyverse)\n",
    "library(ggformula)\n",
    "library(rpart)\n",
    "library(rpart.plot)\n",
    "\n",
    "# Set visualization theme\n",
    "theme_set(theme_bw(base_size = 16))\n",
    "\n",
    "# Read in Data\n",
    "survey_data <- read_csv(\"https://raw.githubusercontent.com/lebebr01/jshs-stat/main/data/survey_responses.csv\")\n",
    "\n",
    "# Process data names for easier access\n",
    "names(survey_data) <- gsub(\"-|,|/\", \"\", names(survey_data))\n",
    "names(survey_data) <- gsub(\"\\\\s+\", \"_\", names(survey_data))\n",
    "\n",
    "# Visual first few rows of the data\n",
    "head(survey_data)\n"
   ]
  },
  {
   "cell_type": "markdown",
   "metadata": {},
   "source": [
    " ## Can we classify whether someone is from a city or rural location?\n",
    "\n",
    " In this example, we are going to try to correctly classify if an individual grew up in a city or more rural location (labeled as a village in the data) based solely off some of their movie preferences. To turn this into a research question, this may look like the following:\n",
    "\n",
    " 1. Are there differences in movie preferences between those who grew up in a city or rural location?\n",
    " 2. Do different movie preferences accurately predict whether someone grew up in a city or rural location?\n",
    "\n",
    "\n",
    " Before we explicitly answer these research questions, let's first visualize the data to understand how many individuals in the data grew up in a city or rural location.\n",
    "\n",
    " ### How many grew up in a city or rural location?"
   ]
  },
  {
   "cell_type": "code",
   "execution_count": null,
   "metadata": {},
   "outputs": [],
   "source": [
    "gf_bar(~ Village_town, data = survey_data)\n"
   ]
  },
  {
   "cell_type": "markdown",
   "metadata": {},
   "source": [
    " ### Fit model"
   ]
  },
  {
   "cell_type": "code",
   "execution_count": null,
   "metadata": {},
   "outputs": [],
   "source": [
    "classify_model <- rpart(Village_town ~ Movies + Horror + Thriller + Comedy + Romantic + Scifi + \n",
    "  War + FantasyFairy_tales + Animated + Documentary + Western + Action, \n",
    "  data = survey_data, method = \"class\")\n",
    "\n",
    "  rpart.plot(classify_model,  roundint = FALSE, type = 3, branch = .3)\n"
   ]
  },
  {
   "cell_type": "markdown",
   "metadata": {},
   "source": [
    " ### Accuracy\n",
    "\n",
    " What could we use to evaluate how well the model does? Since we know from the data how many actually grew up in the city vs rural area, we can take the model predicted values and compare to the actual values."
   ]
  },
  {
   "cell_type": "code",
   "execution_count": null,
   "metadata": {},
   "outputs": [],
   "source": [
    "survey_data_predict <- survey_data %>%\n",
    "  drop_na(Village_town) %>%\n",
    "  mutate(village_town_predict = predict(classify_model, type = 'class')) %>%\n",
    "  cbind(predict(classify_model, type = 'prob'))\n",
    "\n",
    "  # Table of results\n",
    "  survey_data_predict %>%\n",
    "  count(Village_town, village_town_predict)\n"
   ]
  },
  {
   "cell_type": "markdown",
   "metadata": {},
   "source": [
    " #### Easier to visualize"
   ]
  },
  {
   "cell_type": "code",
   "execution_count": null,
   "metadata": {},
   "outputs": [],
   "source": [
    "gf_bar(~ Village_town, fill = ~village_town_predict, data = survey_data_predict, position = 'fill')\n"
   ]
  },
  {
   "cell_type": "markdown",
   "metadata": {},
   "source": [
    " #### Generate a Percentage\n",
    "\n",
    " We can generate an overall classification accuracy as a percentage too. Given what you know about the figure above, is there anything problematic about a single percentage?"
   ]
  },
  {
   "cell_type": "code",
   "execution_count": null,
   "metadata": {},
   "outputs": [],
   "source": [
    "survey_data_predict %>%\n",
    "  mutate(same_class = ifelse(Village_town == village_town_predict, 1, 0)) %>%\n",
    "  df_stats(~ same_class, mean, sum)\n"
   ]
  },
  {
   "cell_type": "markdown",
   "metadata": {},
   "source": [
    " #### Percentage by real groups\n",
    "\n",
    " The overall percentage is likely misleading for two main reasons. First, the two groups have different number of people in them. This is makes an overall classification accuracy seem higher in this example as the group that we are classifying as more accurate has more data. Second, there is differential performance between the two groups. Fortunately, we can generate a percentage for each group, a classification accuracy for those who grew up in the city and another for the rural individuals."
   ]
  },
  {
   "cell_type": "code",
   "execution_count": null,
   "metadata": {},
   "outputs": [],
   "source": [
    "survey_data_predict %>%\n",
    "  mutate(same_class = ifelse(Village_town == village_town_predict, 1, 0)) %>%\n",
    "  df_stats(same_class ~ Village_town, mean, sum)\n",
    "\n",
    "\n"
   ]
  }
 ],
 "metadata": {
  "file_extension": ".py",
  "kernelspec": {
   "display_name": "R",
   "language": "R",
   "name": "ir"
  },
  "language_info": {
   "codemirror_mode": "r",
   "file_extension": ".r",
   "mimetype": "text/x-r-source",
   "name": "R",
   "pygments_lexer": "r",
   "version": "4.0.2"
  },
  "mimetype": "text/x-python",
  "name": "python",
  "npconvert_exporter": "python",
  "pygments_lexer": "ipython3",
  "version": 3
 },
 "nbformat": 4,
 "nbformat_minor": 2
}